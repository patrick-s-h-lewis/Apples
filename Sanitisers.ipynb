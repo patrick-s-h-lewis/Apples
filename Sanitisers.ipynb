{
 "cells": [
  {
   "cell_type": "code",
   "execution_count": 38,
   "metadata": {
    "collapsed": true
   },
   "outputs": [],
   "source": [
    "from abc import ABCMeta, abstractmethod,abstractproperty\n",
    "import json\n",
    "import re\n",
    "import codecs\n",
    "import nltk.stem\n",
    "\n",
    "class Sanitiser(object):\n",
    "    __metaclass__=ABCMeta\n",
    "    @abstractmethod\n",
    "    def sanitise(sentence):\n",
    "        return sentence\n",
    "    \n",
    "    def remove_unicode_punct(self,sentence, chars):\n",
    "        return re.sub(u'(?u)[' + re.escape(''.join(chars)) + ']', ' ', sentence)\n",
    "    \n",
    "class StopWordSanitiser(Sanitiser):\n",
    "    def __init__(self,stopwords_file,punct_file):\n",
    "        with codecs.open(stopwords_file,'r',encoding='utf8') as f:\n",
    "            self.stopwords = json.load(f)\n",
    "        with codecs.open(punct_file,'r',encoding='utf8') as f:\n",
    "            self.punct_filter = json.load(f)\n",
    "    \n",
    "    def sanitise(self,sentence):\n",
    "        lt = sentence.lower()\n",
    "        slt = lt.strip()\n",
    "        tslt = self.remove_unicode_punct(slt,self.punct_filter)\n",
    "        stop_filtered = [i for i in tslt.split() if i not in self.stopwords]\n",
    "        export = u' '.join(stop_filtered)\n",
    "        return export\n",
    "\n",
    "class MinimalSanitiser(Sanitiser):\n",
    "    def __init__(self,punct_file):\n",
    "        with codecs.open(punct_file,'r',encoding='utf8') as f:\n",
    "            self.punct_filter = json.load(f)\n",
    "    \n",
    "    def sanitise(self,sentence):\n",
    "        lt = sentence.lower()\n",
    "        slt = lt.strip()\n",
    "        tslt = self.remove_unicode_punct(slt,self.punct_filter)\n",
    "        export = u' '.join(tslt.strip().split())\n",
    "        return export\n",
    "\n",
    "class StemmingSanitise(Sanitiser):\n",
    "    def __init__(self,stopwords_file,punct_file,stem_type):\n",
    "        with codecs.open(stopwords_file,'r',encoding='utf8') as f:\n",
    "            self.stopwords = json.load(f)\n",
    "        with codecs.open(punct_file,'r',encoding='utf8') as f:\n",
    "            self.punct_filter = json.load(f)\n",
    "        self.stem_type=stem_type\n",
    "        if stem_type=='SNOWBALL':\n",
    "            self.stemmer = nltk.stem.snowball.EnglishStemmer()\n",
    "        elif stem_type=='PORTER':\n",
    "            self.stemmer = nltk.stem.PorterStemmer() \n",
    "        elif stem_type=='LANCASTER':\n",
    "            self.stemmer = nltk.stem.LancasterStemmer()\n",
    "        elif stem_type=='WORDNET':\n",
    "            self.stemmer = nltk.stem.WordNetLemmatizer()\n",
    "    \n",
    "    def sanitise(self,title):\n",
    "        lt = title.lower()\n",
    "        slt = lt.strip()\n",
    "        tslt = self.remove_unicode_punct(slt,self.punct_filter)\n",
    "        stop_filtered = [i for i in tslt.split() if i not in self.stopwords]\n",
    "        if self.stem_type=='WORDNET':\n",
    "            stem_filtered = [self.stemmer.lemmatize(i) for i in stop_filtered]\n",
    "        else:\n",
    "            stem_filtered = [self.stemmer.stem(i) for i in stop_filtered]\n",
    "        export = u' '.join(stem_filtered)\n",
    "        return export\n",
    "    "
   ]
  },
  {
   "cell_type": "code",
   "execution_count": 40,
   "metadata": {
    "collapsed": false
   },
   "outputs": [],
   "source": [
    "a = StopWordSanitiser('chemistry_stopwords.json','punctuation.json')\n",
    "b = StemmingSanitise('chemistry_stopwords.json','punctuation.json','SNOWBALL')\n",
    "c = MinimalSanitiser('punctuation.json')\n",
    "#f"
   ]
  }
 ],
 "metadata": {
  "kernelspec": {
   "display_name": "Python 2",
   "language": "python",
   "name": "python2"
  },
  "language_info": {
   "codemirror_mode": {
    "name": "ipython",
    "version": 2
   },
   "file_extension": ".py",
   "mimetype": "text/x-python",
   "name": "python",
   "nbconvert_exporter": "python",
   "pygments_lexer": "ipython2",
   "version": "2.7.11"
  }
 },
 "nbformat": 4,
 "nbformat_minor": 0
}

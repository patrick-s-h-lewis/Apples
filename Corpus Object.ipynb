{
 "cells": [
  {
   "cell_type": "code",
   "execution_count": 83,
   "metadata": {
    "collapsed": false
   },
   "outputs": [],
   "source": [
    "from gensim import corpora\n",
    "import corpus_stats\n",
    "import codecs\n",
    "import docIterators\n",
    "import sanitisers\n",
    "import gensim\n",
    "\n",
    "class Corpus(object):\n",
    "    doc_iter=None\n",
    "    dictionary=None\n",
    "    inv_dict=None\n",
    "    name='UNNAMED_CORPUS'\n",
    "    statistics =None\n",
    "    tfidf_model=None\n",
    "    \n",
    "    def __init__(self,name,doc_iter,dictionary=None,tfidf_model=None):\n",
    "        self.doc_iter = doc_iter\n",
    "        print('Building Dictionary')\n",
    "        if dictionary:\n",
    "            self.dictionary=dictionary\n",
    "        else:\n",
    "            self.dictionary = corpora.Dictionary(doc_iter)\n",
    "        self.inv_dict = {v:k for k,v in self.dictionary.iteritems()}\n",
    "        self.name=name\n",
    "        if tfidf_model:\n",
    "            self.tfidf_model=tfidf_model\n",
    "    \n",
    "    def get_cbow_doc(self,sent):\n",
    "        return self.dictionary.doc2bow(sent)\n",
    "    \n",
    "    def generate_stats(self,filename):\n",
    "        self.statistics = corpus_stats(self.doc_iter,self.name)\n",
    "    \n",
    "    def get_tfidf_model(self):\n",
    "        print('Creating TF-IDF Model')\n",
    "        return gensim.models.TfidfModel(dictionary=self.dictionary)\n",
    "    \n",
    "    def get_tfidf_doc(self,sent):\n",
    "        return self.tfidf_model[self.get_cbow_doc(sent)]\n",
    "        \n",
    "    def export2jsonfile(self,filename):\n",
    "        if self.tfidf_model==None:\n",
    "            self.tfidf_model=self.get_tfidf_model()\n",
    "        with codecs.open(self.name+filename,'w',encoding='utf8') as f:\n",
    "            self.doc_iter.iter_type='DOC'\n",
    "            for doc in self.doc_iter:\n",
    "                weights=[]\n",
    "                for sent in doc:\n",
    "                    if sent!=[]:\n",
    "                        tfidf=self.get_tfidf_doc(sent)\n",
    "                        weights.append(map( lambda w: tfidf[zip(*tfidf)[0].index(self.inv_dict[w])][1],sent))\n",
    "                ex = json.dumps([doc,weights])\n",
    "                f.write(ex+'\\n')\n",
    "        print('EXPORT COMPLETE')"
   ]
  },
  {
   "cell_type": "code",
   "execution_count": 89,
   "metadata": {
    "collapsed": false
   },
   "outputs": [],
   "source": [
    "def load_corpus(source,name='UNTITLED',dictionary_file=None,tfidf_file=None):\n",
    "    san = sanitisers.NullSanitiser()\n",
    "    dcit = docIterators.JsonDiskIter(source,san)\n",
    "    if dictionary_file:\n",
    "        dictionary=corpora.Dictionary.load(dictionary_file)\n",
    "    else:\n",
    "        dictionary=None\n",
    "    if tfidf_file:\n",
    "        tfidf = models.TfidfModel.load(tfidf_file)\n",
    "    else:\n",
    "        tfidf=None\n",
    "    return Corpus(name,dcit,dictionary=dictionary,tfidf_model=tfidf)"
   ]
  },
  {
   "cell_type": "code",
   "execution_count": 88,
   "metadata": {
    "collapsed": false
   },
   "outputs": [
    {
     "ename": "TypeError",
     "evalue": "__init__() got an unexpected keyword argument 'dictionary_file'",
     "output_type": "error",
     "traceback": [
      "\u001b[0;31m---------------------------------------------------------------------------\u001b[0m",
      "\u001b[0;31mTypeError\u001b[0m                                 Traceback (most recent call last)",
      "\u001b[0;32m<ipython-input-88-68f64bb3e0cc>\u001b[0m in \u001b[0;36m<module>\u001b[0;34m()\u001b[0m\n\u001b[0;32m----> 1\u001b[0;31m \u001b[0mcorp\u001b[0m \u001b[0;34m=\u001b[0m \u001b[0mCorpus\u001b[0m\u001b[0;34m(\u001b[0m\u001b[0;34m'Test'\u001b[0m\u001b[0;34m,\u001b[0m\u001b[0mdcit\u001b[0m\u001b[0;34m,\u001b[0m\u001b[0mdictionary_file\u001b[0m\u001b[0;34m=\u001b[0m\u001b[0;34m'dictionary'\u001b[0m\u001b[0;34m)\u001b[0m\u001b[0;34m\u001b[0m\u001b[0m\n\u001b[0m",
      "\u001b[0;31mTypeError\u001b[0m: __init__() got an unexpected keyword argument 'dictionary_file'"
     ]
    }
   ],
   "source": [
    "corp = Corpus('Test',dcit,dictionary_file='dictionary')"
   ]
  },
  {
   "cell_type": "code",
   "execution_count": 91,
   "metadata": {
    "collapsed": false
   },
   "outputs": [
    {
     "name": "stdout",
     "output_type": "stream",
     "text": [
      "Building Dictionary\n"
     ]
    },
    {
     "data": {
      "text/plain": [
       "<__main__.Corpus at 0x11f957710>"
      ]
     },
     "execution_count": 91,
     "metadata": {},
     "output_type": "execute_result"
    }
   ],
   "source": [
    "load_corpus('exp2.json',dictionary_file='dictionary')"
   ]
  },
  {
   "cell_type": "code",
   "execution_count": 10,
   "metadata": {
    "collapsed": false
   },
   "outputs": [],
   "source": [
    "dictionary=corp.dictionary"
   ]
  },
  {
   "cell_type": "code",
   "execution_count": 53,
   "metadata": {
    "collapsed": false
   },
   "outputs": [
    {
     "ename": "NameError",
     "evalue": "name 'boom' is not defined",
     "output_type": "error",
     "traceback": [
      "\u001b[0;31m---------------------------------------------------------------------------\u001b[0m",
      "\u001b[0;31mNameError\u001b[0m                                 Traceback (most recent call last)",
      "\u001b[0;32m<ipython-input-53-a8346cef9d65>\u001b[0m in \u001b[0;36m<module>\u001b[0;34m()\u001b[0m\n\u001b[1;32m      1\u001b[0m \u001b[0;32mif\u001b[0m \u001b[0;32mnot\u001b[0m \u001b[0mcorp\u001b[0m\u001b[0;34m.\u001b[0m\u001b[0mtfidf_model\u001b[0m\u001b[0;34m:\u001b[0m\u001b[0;34m\u001b[0m\u001b[0m\n\u001b[0;32m----> 2\u001b[0;31m     \u001b[0;32mprint\u001b[0m \u001b[0mboom\u001b[0m\u001b[0;34m\u001b[0m\u001b[0m\n\u001b[0m",
      "\u001b[0;31mNameError\u001b[0m: name 'boom' is not defined"
     ]
    }
   ],
   "source": [
    "if not corp.tfidf_model:\n",
    "    print boom"
   ]
  },
  {
   "cell_type": "code",
   "execution_count": 87,
   "metadata": {
    "collapsed": false
   },
   "outputs": [
    {
     "ename": "AttributeError",
     "evalue": "'NoneType' object has no attribute 'save'",
     "output_type": "error",
     "traceback": [
      "\u001b[0;31m---------------------------------------------------------------------------\u001b[0m",
      "\u001b[0;31mAttributeError\u001b[0m                            Traceback (most recent call last)",
      "\u001b[0;32m<ipython-input-87-e98d5a04052f>\u001b[0m in \u001b[0;36m<module>\u001b[0;34m()\u001b[0m\n\u001b[0;32m----> 1\u001b[0;31m \u001b[0mcorp\u001b[0m\u001b[0;34m.\u001b[0m\u001b[0mtfidf_model\u001b[0m\u001b[0;34m.\u001b[0m\u001b[0msave\u001b[0m\u001b[0;34m(\u001b[0m\u001b[0;34m'tfidf'\u001b[0m\u001b[0;34m)\u001b[0m\u001b[0;34m\u001b[0m\u001b[0m\n\u001b[0m",
      "\u001b[0;31mAttributeError\u001b[0m: 'NoneType' object has no attribute 'save'"
     ]
    }
   ],
   "source": [
    "corp.tfidf_model.save('tfidf')"
   ]
  },
  {
   "cell_type": "code",
   "execution_count": 59,
   "metadata": {
    "collapsed": false
   },
   "outputs": [
    {
     "data": {
      "text/plain": [
       "[]"
      ]
     },
     "execution_count": 59,
     "metadata": {},
     "output_type": "execute_result"
    }
   ],
   "source": [
    "dictionary.doc2bow([''])"
   ]
  },
  {
   "cell_type": "code",
   "execution_count": 71,
   "metadata": {
    "collapsed": false
   },
   "outputs": [],
   "source": [
    "with codecs.open('Testexp3.json','rb',encoding='utf8') as f:\n",
    "    w=json.loads((f.readline()))"
   ]
  },
  {
   "cell_type": "code",
   "execution_count": 73,
   "metadata": {
    "collapsed": false
   },
   "outputs": [
    {
     "data": {
      "text/plain": [
       "0"
      ]
     },
     "execution_count": 73,
     "metadata": {},
     "output_type": "execute_result"
    }
   ],
   "source": [
    "len(w[0][1])-len(w[0][1])"
   ]
  },
  {
   "cell_type": "code",
   "execution_count": 75,
   "metadata": {
    "collapsed": false
   },
   "outputs": [
    {
     "ename": "NameError",
     "evalue": "name 'biblesiL' is not defined",
     "output_type": "error",
     "traceback": [
      "\u001b[0;31m---------------------------------------------------------------------------\u001b[0m",
      "\u001b[0;31mNameError\u001b[0m                                 Traceback (most recent call last)",
      "\u001b[0;32m<ipython-input-75-529cceaa7ec1>\u001b[0m in \u001b[0;36m<module>\u001b[0;34m()\u001b[0m\n\u001b[0;32m----> 1\u001b[0;31m \u001b[0;32mif\u001b[0m \u001b[0mbiblesiL\u001b[0m\u001b[0;34m:\u001b[0m\u001b[0;34m\u001b[0m\u001b[0m\n\u001b[0m\u001b[1;32m      2\u001b[0m     \u001b[0;32mprint\u001b[0m \u001b[0;34m'lol'\u001b[0m\u001b[0;34m\u001b[0m\u001b[0m\n",
      "\u001b[0;31mNameError\u001b[0m: name 'biblesiL' is not defined"
     ]
    }
   ],
   "source": [
    "if biblesiL:\n",
    "    print 'lol'"
   ]
  },
  {
   "cell_type": "code",
   "execution_count": null,
   "metadata": {
    "collapsed": true
   },
   "outputs": [],
   "source": []
  }
 ],
 "metadata": {
  "kernelspec": {
   "display_name": "Python 2",
   "language": "python",
   "name": "python2"
  },
  "language_info": {
   "codemirror_mode": {
    "name": "ipython",
    "version": 2
   },
   "file_extension": ".py",
   "mimetype": "text/x-python",
   "name": "python",
   "nbconvert_exporter": "python",
   "pygments_lexer": "ipython2",
   "version": "2.7.11"
  }
 },
 "nbformat": 4,
 "nbformat_minor": 0
}

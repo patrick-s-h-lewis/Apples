{
 "cells": [
  {
   "cell_type": "code",
   "execution_count": 1,
   "metadata": {
    "collapsed": true
   },
   "outputs": [],
   "source": [
    "import gensim.models.doc2vec as d2v\n",
    "import docIterators"
   ]
  },
  {
   "cell_type": "code",
   "execution_count": 3,
   "metadata": {
    "collapsed": false
   },
   "outputs": [
    {
     "name": "stdout",
     "output_type": "stream",
     "text": [
      "[######### ] 99% 449000\n",
      "\n",
      "[######### ] 99% 449000\n",
      "\n",
      "[######### ] 99% 449000\n",
      "\n",
      "[######### ] 99% 449000\n",
      "\n",
      "[######### ] 99% 449000\n",
      "\n",
      "[######### ] 99% 449000\n",
      "\n",
      "[######### ] 99% 449000\n",
      "\n",
      "[######### ] 99% 449000\n",
      "\n",
      "[######### ] 99% 449000\n",
      "\n",
      "[######### ] 99% 449000\n",
      "\n",
      "[######### ] 99% 449000\n",
      "\n",
      "[######### ] 99% 449000\n",
      "\n",
      "[######### ] 99% 449000\n",
      "\n",
      "[######### ] 99% 449000\n",
      "\n",
      "[######### ] 99% 449000\n",
      "\n",
      "[######### ] 99% 449000\n",
      "\n",
      "[######### ] 99% 449000\n",
      "\n",
      "[######### ] 99% 449000\n",
      "\n",
      "[######### ] 99% 449000\n",
      "\n",
      "[######### ] 99% 449000\n",
      "\n",
      "[######### ] 99% 449000\n",
      "\n"
     ]
    }
   ],
   "source": [
    "iterator = docIterators.JsonBlueberryIter('fine.json',iter_type='LABELED_SENTENCES')\n",
    "model = d2v.Doc2Vec(size=100,window=8,min_count=1,alpha=0.025,min_alpha=0.025)\n",
    "model.build_vocab(iterator)\n",
    "for epoch in range(24):\n",
    "    model.train(iterator)\n",
    "    model.alpha-=0.001\n",
    "    model.min_alpha=model.alpha\n",
    "model.save('doc2vec')"
   ]
  },
  {
   "cell_type": "code",
   "execution_count": null,
   "metadata": {
    "collapsed": true
   },
   "outputs": [],
   "source": []
  }
 ],
 "metadata": {
  "kernelspec": {
   "display_name": "Python 2",
   "language": "python",
   "name": "python2"
  },
  "language_info": {
   "codemirror_mode": {
    "name": "ipython",
    "version": 2
   },
   "file_extension": ".py",
   "mimetype": "text/x-python",
   "name": "python",
   "nbconvert_exporter": "python",
   "pygments_lexer": "ipython2",
   "version": "2.7.11"
  }
 },
 "nbformat": 4,
 "nbformat_minor": 0
}

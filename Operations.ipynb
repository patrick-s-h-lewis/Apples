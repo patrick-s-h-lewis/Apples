{
 "cells": [
  {
   "cell_type": "code",
   "execution_count": 1,
   "metadata": {
    "collapsed": false
   },
   "outputs": [],
   "source": [
    "import pymongo\n",
    "from pymongo import MongoClient\n",
    "import docIterators\n",
    "import sanitisers\n",
    "import codecs\n",
    "import json\n",
    "import sys\n",
    "import corpus\n",
    "import gensim\n",
    "import vect_generators\n",
    "import numpy as np\n",
    "from sklearn.cluster import KMeans\n",
    "from sklearn.manifold import TSNE, MDS\n",
    "from sklearn.decomposition import PCA\n",
    "import matplotlib.pyplot as plt\n",
    "from mpl_toolkits.mplot3d import Axes3D\n"
   ]
  },
  {
   "cell_type": "code",
   "execution_count": 45,
   "metadata": {
    "collapsed": false
   },
   "outputs": [
    {
     "name": "stdout",
     "output_type": "stream",
     "text": [
      "Building Dictionary\n",
      "[######### ] 99% 449000\n",
      "\n",
      "Sampling 1000 random documents\n",
      "[######### ] 99% 449000\n",
      "\n"
     ]
    }
   ],
   "source": [
    "dcit = docIterators.BlueberryIter(\n",
    "    ['mongodb://localhost:27017/','Cherry','Blueberry'],\n",
    "    iter_type='DOI')\n",
    "corp = corpus.Corpus('BLUEBERRY',dcit)\n",
    "sample_size=1000\n",
    "s=corp.get_sample(sample_size)\n",
    "model=gensim.models.Word2Vec.load('RaspberryEngine')\n",
    "gen = vect_generators.BlueberryGenerator(model)\n",
    "vectors = []\n",
    "for doc in s:\n",
    "    vectors.append(gen.get_vector(doc['doc']))\n",
    "get_means_and_plot(vectors,n_clusters=5,dimension=3)"
   ]
  },
  {
   "cell_type": "code",
   "execution_count": 44,
   "metadata": {
    "collapsed": false
   },
   "outputs": [],
   "source": [
    "def get_means_and_plot(vecs,n_clusters=10,dimension=2):\n",
    "    kmeans = KMeans(\n",
    "        n_clusters=n_clusters,\n",
    "        init='k-means++',\n",
    "        max_iter=50000,\n",
    "        verbose=0,\n",
    "        tol=0.00000000001)\n",
    "    cluster_centres =kmeans.fit(vecs).cluster_centers_\n",
    "    preds=kmeans.predict(vecs)\n",
    "    t = TSNE(init='pca',n_components=dimension)\n",
    "    reduced_vecs = t.fit_transform(vecs+list(cluster_centres))\n",
    "    colors=iter(plt.cm.rainbow(np.linspace(0,1,n_clusters)))\n",
    "    fig = plt.figure()\n",
    "    if dimension==3:\n",
    "        ax = fig.gca(projection='3d')\n",
    "    else:\n",
    "        ax = fig.gca()\n",
    "    for centre in range(n_clusters):\n",
    "        color=next(colors)\n",
    "        cluster=[]\n",
    "        for dim in range(dimension):\n",
    "            cluster.append([reduced_vecs[i][dim] for i in range(sample_size) if preds[i]==centre])\n",
    "        if dimension==3:\n",
    "            ax.scatter(cluster[0],\n",
    "                cluster[1],\n",
    "                cluster[2],\n",
    "                 'o',\n",
    "                 c=color)\n",
    "            ax.scatter(reduced_vecs[sample_size+centre][0],\n",
    "                 reduced_vecs[sample_size+centre][1],\n",
    "                 reduced_vecs[sample_size+centre][2],\n",
    "                 '*',\n",
    "                 c=color)\n",
    "        else:\n",
    "            ax.plot(cluster[0],\n",
    "                cluster[1],\n",
    "                 'o',\n",
    "                 c=color,\n",
    "                 markersize=3)\n",
    "            ax.plot(reduced_vecs[sample_size+centre][0],\n",
    "                 reduced_vecs[sample_size+centre][1],\n",
    "                 '*',\n",
    "                 c=color,\n",
    "                 markersize=10)\n",
    "    plt.show()"
   ]
  },
  {
   "cell_type": "code",
   "execution_count": 43,
   "metadata": {
    "collapsed": false
   },
   "outputs": [],
   "source": [
    "vecs=vectors\n",
    "n_clusters=10\n",
    "dimension=3\n",
    "kmeans = KMeans(\n",
    "        n_clusters=n_clusters,\n",
    "        init='k-means++',\n",
    "        max_iter=50000,\n",
    "        verbose=0,\n",
    "        tol=0.00000000001)\n",
    "cluster_centres =kmeans.fit(vecs).cluster_centers_\n",
    "preds=kmeans.predict(vecs)\n",
    "t = TSNE(init='pca',n_components=dimension)\n",
    "reduced_vecs = t.fit_transform(vecs+list(cluster_centres))\n",
    "colors=iter(plt.cm.rainbow(np.linspace(0,1,n_clusters)))\n",
    "fig = plt.figure()\n",
    "if dimension==3:\n",
    "    ax = fig.gca(projection='3d')\n",
    "else:\n",
    "    ax = fig.gca()\n",
    "for centre in range(n_clusters):\n",
    "    color=next(colors)\n",
    "    cluster=[]\n",
    "    for dim in range(dimension):\n",
    "        cluster.append([reduced_vecs[i][dim] for i in range(sample_size) if preds[i]==centre])\n",
    "    if dimension==3:\n",
    "        ax.scatter(cluster[0],\n",
    "                cluster[1],\n",
    "                cluster[2],\n",
    "                 'o',\n",
    "                 c=color)\n",
    "        ax.scatter(reduced_vecs[sample_size+centre][0],\n",
    "                 reduced_vecs[sample_size+centre][1],\n",
    "                 reduced_vecs[sample_size+centre][2],\n",
    "                 '*',\n",
    "                 c=color)\n",
    "    else:\n",
    "        ax.plot(cluster[0],\n",
    "                cluster[1],\n",
    "                 'o',\n",
    "                 c=color,\n",
    "                 markersize=3)\n",
    "        ax.plot(reduced_vecs[sample_size+centre][0],\n",
    "                 reduced_vecs[sample_size+centre][1],\n",
    "                 '*',\n",
    "                 c=color,\n",
    "                 markersize=10)\n",
    "plt.show()"
   ]
  },
  {
   "cell_type": "code",
   "execution_count": 36,
   "metadata": {
    "collapsed": true
   },
   "outputs": [
    {
     "ename": "KeyboardInterrupt",
     "evalue": "",
     "output_type": "error",
     "traceback": [
      "\u001b[1;31m---------------------------------------------------------------------------\u001b[0m",
      "\u001b[1;31mKeyboardInterrupt\u001b[0m                         Traceback (most recent call last)",
      "\u001b[1;32m<ipython-input-36-983f8249b5ae>\u001b[0m in \u001b[0;36m<module>\u001b[1;34m()\u001b[0m\n\u001b[1;32m----> 1\u001b[1;33m \u001b[0mget_means_and_plot\u001b[0m\u001b[1;33m(\u001b[0m\u001b[0mvectors\u001b[0m\u001b[1;33m,\u001b[0m\u001b[0mdimension\u001b[0m\u001b[1;33m=\u001b[0m\u001b[1;36m3\u001b[0m\u001b[1;33m)\u001b[0m\u001b[1;33m\u001b[0m\u001b[0m\n\u001b[0m",
      "\u001b[1;32m<ipython-input-33-bc24f88c70e9>\u001b[0m in \u001b[0;36mget_means_and_plot\u001b[1;34m(vecs, n_clusters, dimension)\u001b[0m\n\u001b[0;32m      9\u001b[0m     \u001b[0mpreds\u001b[0m\u001b[1;33m=\u001b[0m\u001b[0mkmeans\u001b[0m\u001b[1;33m.\u001b[0m\u001b[0mpredict\u001b[0m\u001b[1;33m(\u001b[0m\u001b[0mvecs\u001b[0m\u001b[1;33m)\u001b[0m\u001b[1;33m\u001b[0m\u001b[0m\n\u001b[0;32m     10\u001b[0m     \u001b[0mt\u001b[0m \u001b[1;33m=\u001b[0m \u001b[0mTSNE\u001b[0m\u001b[1;33m(\u001b[0m\u001b[0minit\u001b[0m\u001b[1;33m=\u001b[0m\u001b[1;34m'pca'\u001b[0m\u001b[1;33m,\u001b[0m\u001b[0mn_components\u001b[0m\u001b[1;33m=\u001b[0m\u001b[0mdimension\u001b[0m\u001b[1;33m)\u001b[0m\u001b[1;33m\u001b[0m\u001b[0m\n\u001b[1;32m---> 11\u001b[1;33m     \u001b[0mreduced_vecs\u001b[0m \u001b[1;33m=\u001b[0m \u001b[0mt\u001b[0m\u001b[1;33m.\u001b[0m\u001b[0mfit_transform\u001b[0m\u001b[1;33m(\u001b[0m\u001b[0mvecs\u001b[0m\u001b[1;33m+\u001b[0m\u001b[0mlist\u001b[0m\u001b[1;33m(\u001b[0m\u001b[0mcluster_centres\u001b[0m\u001b[1;33m)\u001b[0m\u001b[1;33m)\u001b[0m\u001b[1;33m\u001b[0m\u001b[0m\n\u001b[0m\u001b[0;32m     12\u001b[0m     \u001b[0mcolors\u001b[0m\u001b[1;33m=\u001b[0m\u001b[0miter\u001b[0m\u001b[1;33m(\u001b[0m\u001b[0mplt\u001b[0m\u001b[1;33m.\u001b[0m\u001b[0mcm\u001b[0m\u001b[1;33m.\u001b[0m\u001b[0mrainbow\u001b[0m\u001b[1;33m(\u001b[0m\u001b[0mnp\u001b[0m\u001b[1;33m.\u001b[0m\u001b[0mlinspace\u001b[0m\u001b[1;33m(\u001b[0m\u001b[1;36m0\u001b[0m\u001b[1;33m,\u001b[0m\u001b[1;36m1\u001b[0m\u001b[1;33m,\u001b[0m\u001b[0mn_clusters\u001b[0m\u001b[1;33m)\u001b[0m\u001b[1;33m)\u001b[0m\u001b[1;33m)\u001b[0m\u001b[1;33m\u001b[0m\u001b[0m\n\u001b[0;32m     13\u001b[0m     \u001b[0mfig\u001b[0m \u001b[1;33m=\u001b[0m \u001b[0mplt\u001b[0m\u001b[1;33m.\u001b[0m\u001b[0mfigure\u001b[0m\u001b[1;33m(\u001b[0m\u001b[1;33m)\u001b[0m\u001b[1;33m\u001b[0m\u001b[0m\n",
      "\u001b[1;32m/home/pl375/.conda/envs/Anaconda/lib/python2.7/site-packages/sklearn/manifold/t_sne.pyc\u001b[0m in \u001b[0;36mfit_transform\u001b[1;34m(self, X, y)\u001b[0m\n\u001b[0;32m    864\u001b[0m             \u001b[0mEmbedding\u001b[0m \u001b[0mof\u001b[0m \u001b[0mthe\u001b[0m \u001b[0mtraining\u001b[0m \u001b[0mdata\u001b[0m \u001b[1;32min\u001b[0m \u001b[0mlow\u001b[0m\u001b[1;33m-\u001b[0m\u001b[0mdimensional\u001b[0m \u001b[0mspace\u001b[0m\u001b[1;33m.\u001b[0m\u001b[1;33m\u001b[0m\u001b[0m\n\u001b[0;32m    865\u001b[0m         \"\"\"\n\u001b[1;32m--> 866\u001b[1;33m         \u001b[0membedding\u001b[0m \u001b[1;33m=\u001b[0m \u001b[0mself\u001b[0m\u001b[1;33m.\u001b[0m\u001b[0m_fit\u001b[0m\u001b[1;33m(\u001b[0m\u001b[0mX\u001b[0m\u001b[1;33m)\u001b[0m\u001b[1;33m\u001b[0m\u001b[0m\n\u001b[0m\u001b[0;32m    867\u001b[0m         \u001b[0mself\u001b[0m\u001b[1;33m.\u001b[0m\u001b[0membedding_\u001b[0m \u001b[1;33m=\u001b[0m \u001b[0membedding\u001b[0m\u001b[1;33m\u001b[0m\u001b[0m\n\u001b[0;32m    868\u001b[0m         \u001b[1;32mreturn\u001b[0m \u001b[0mself\u001b[0m\u001b[1;33m.\u001b[0m\u001b[0membedding_\u001b[0m\u001b[1;33m\u001b[0m\u001b[0m\n",
      "\u001b[1;32m/home/pl375/.conda/envs/Anaconda/lib/python2.7/site-packages/sklearn/manifold/t_sne.pyc\u001b[0m in \u001b[0;36m_fit\u001b[1;34m(self, X, skip_num_points)\u001b[0m\n\u001b[0;32m    775\u001b[0m                           \u001b[0mX_embedded\u001b[0m\u001b[1;33m=\u001b[0m\u001b[0mX_embedded\u001b[0m\u001b[1;33m,\u001b[0m\u001b[1;33m\u001b[0m\u001b[0m\n\u001b[0;32m    776\u001b[0m                           \u001b[0mneighbors\u001b[0m\u001b[1;33m=\u001b[0m\u001b[0mneighbors_nn\u001b[0m\u001b[1;33m,\u001b[0m\u001b[1;33m\u001b[0m\u001b[0m\n\u001b[1;32m--> 777\u001b[1;33m                           skip_num_points=skip_num_points)\n\u001b[0m\u001b[0;32m    778\u001b[0m \u001b[1;33m\u001b[0m\u001b[0m\n\u001b[0;32m    779\u001b[0m     def _tsne(self, P, degrees_of_freedom, n_samples, random_state,\n",
      "\u001b[1;32m/home/pl375/.conda/envs/Anaconda/lib/python2.7/site-packages/sklearn/manifold/t_sne.pyc\u001b[0m in \u001b[0;36m_tsne\u001b[1;34m(self, P, degrees_of_freedom, n_samples, random_state, X_embedded, neighbors, skip_num_points)\u001b[0m\n\u001b[0;32m    841\u001b[0m         \u001b[0mopt_args\u001b[0m\u001b[1;33m[\u001b[0m\u001b[1;34m'n_iter'\u001b[0m\u001b[1;33m]\u001b[0m \u001b[1;33m=\u001b[0m \u001b[0mself\u001b[0m\u001b[1;33m.\u001b[0m\u001b[0mn_iter\u001b[0m\u001b[1;33m\u001b[0m\u001b[0m\n\u001b[0;32m    842\u001b[0m         \u001b[0mopt_args\u001b[0m\u001b[1;33m[\u001b[0m\u001b[1;34m'it'\u001b[0m\u001b[1;33m]\u001b[0m \u001b[1;33m=\u001b[0m \u001b[0mit\u001b[0m \u001b[1;33m+\u001b[0m \u001b[1;36m1\u001b[0m\u001b[1;33m\u001b[0m\u001b[0m\n\u001b[1;32m--> 843\u001b[1;33m         \u001b[0mparams\u001b[0m\u001b[1;33m,\u001b[0m \u001b[0merror\u001b[0m\u001b[1;33m,\u001b[0m \u001b[0mit\u001b[0m \u001b[1;33m=\u001b[0m \u001b[0m_gradient_descent\u001b[0m\u001b[1;33m(\u001b[0m\u001b[0mobj_func\u001b[0m\u001b[1;33m,\u001b[0m \u001b[0mparams\u001b[0m\u001b[1;33m,\u001b[0m \u001b[1;33m**\u001b[0m\u001b[0mopt_args\u001b[0m\u001b[1;33m)\u001b[0m\u001b[1;33m\u001b[0m\u001b[0m\n\u001b[0m\u001b[0;32m    844\u001b[0m         \u001b[1;32mif\u001b[0m \u001b[0mself\u001b[0m\u001b[1;33m.\u001b[0m\u001b[0mverbose\u001b[0m\u001b[1;33m:\u001b[0m\u001b[1;33m\u001b[0m\u001b[0m\n\u001b[0;32m    845\u001b[0m             \u001b[1;32mprint\u001b[0m\u001b[1;33m(\u001b[0m\u001b[1;34m\"[t-SNE] Error after %d iterations: %f\"\u001b[0m \u001b[1;33m%\u001b[0m \u001b[1;33m(\u001b[0m\u001b[0mit\u001b[0m \u001b[1;33m+\u001b[0m \u001b[1;36m1\u001b[0m\u001b[1;33m,\u001b[0m \u001b[0merror\u001b[0m\u001b[1;33m)\u001b[0m\u001b[1;33m)\u001b[0m\u001b[1;33m\u001b[0m\u001b[0m\n",
      "\u001b[1;32m/home/pl375/.conda/envs/Anaconda/lib/python2.7/site-packages/sklearn/manifold/t_sne.pyc\u001b[0m in \u001b[0;36m_gradient_descent\u001b[1;34m(objective, p0, it, n_iter, objective_error, n_iter_check, n_iter_without_progress, momentum, learning_rate, min_gain, min_grad_norm, min_error_diff, verbose, args, kwargs)\u001b[0m\n\u001b[0;32m    384\u001b[0m \u001b[1;33m\u001b[0m\u001b[0m\n\u001b[0;32m    385\u001b[0m     \u001b[1;32mfor\u001b[0m \u001b[0mi\u001b[0m \u001b[1;32min\u001b[0m \u001b[0mrange\u001b[0m\u001b[1;33m(\u001b[0m\u001b[0mit\u001b[0m\u001b[1;33m,\u001b[0m \u001b[0mn_iter\u001b[0m\u001b[1;33m)\u001b[0m\u001b[1;33m:\u001b[0m\u001b[1;33m\u001b[0m\u001b[0m\n\u001b[1;32m--> 386\u001b[1;33m         \u001b[0mnew_error\u001b[0m\u001b[1;33m,\u001b[0m \u001b[0mgrad\u001b[0m \u001b[1;33m=\u001b[0m \u001b[0mobjective\u001b[0m\u001b[1;33m(\u001b[0m\u001b[0mp\u001b[0m\u001b[1;33m,\u001b[0m \u001b[1;33m*\u001b[0m\u001b[0margs\u001b[0m\u001b[1;33m,\u001b[0m \u001b[1;33m**\u001b[0m\u001b[0mkwargs\u001b[0m\u001b[1;33m)\u001b[0m\u001b[1;33m\u001b[0m\u001b[0m\n\u001b[0m\u001b[0;32m    387\u001b[0m         \u001b[0mgrad_norm\u001b[0m \u001b[1;33m=\u001b[0m \u001b[0mlinalg\u001b[0m\u001b[1;33m.\u001b[0m\u001b[0mnorm\u001b[0m\u001b[1;33m(\u001b[0m\u001b[0mgrad\u001b[0m\u001b[1;33m)\u001b[0m\u001b[1;33m\u001b[0m\u001b[0m\n\u001b[0;32m    388\u001b[0m \u001b[1;33m\u001b[0m\u001b[0m\n",
      "\u001b[1;32m/home/pl375/.conda/envs/Anaconda/lib/python2.7/site-packages/sklearn/manifold/t_sne.pyc\u001b[0m in \u001b[0;36m_kl_divergence_bh\u001b[1;34m(params, P, neighbors, degrees_of_freedom, n_samples, n_components, angle, skip_num_points, verbose)\u001b[0m\n\u001b[0;32m    287\u001b[0m     error = _barnes_hut_tsne.gradient(sP, X_embedded, neighbors,\n\u001b[0;32m    288\u001b[0m                                       \u001b[0mgrad\u001b[0m\u001b[1;33m,\u001b[0m \u001b[0mangle\u001b[0m\u001b[1;33m,\u001b[0m \u001b[0mn_components\u001b[0m\u001b[1;33m,\u001b[0m \u001b[0mverbose\u001b[0m\u001b[1;33m,\u001b[0m\u001b[1;33m\u001b[0m\u001b[0m\n\u001b[1;32m--> 289\u001b[1;33m                                       dof=degrees_of_freedom)\n\u001b[0m\u001b[0;32m    290\u001b[0m     \u001b[0mc\u001b[0m \u001b[1;33m=\u001b[0m \u001b[1;36m2.0\u001b[0m \u001b[1;33m*\u001b[0m \u001b[1;33m(\u001b[0m\u001b[0mdegrees_of_freedom\u001b[0m \u001b[1;33m+\u001b[0m \u001b[1;36m1.0\u001b[0m\u001b[1;33m)\u001b[0m \u001b[1;33m/\u001b[0m \u001b[0mdegrees_of_freedom\u001b[0m\u001b[1;33m\u001b[0m\u001b[0m\n\u001b[0;32m    291\u001b[0m     \u001b[0mgrad\u001b[0m \u001b[1;33m=\u001b[0m \u001b[0mgrad\u001b[0m\u001b[1;33m.\u001b[0m\u001b[0mravel\u001b[0m\u001b[1;33m(\u001b[0m\u001b[1;33m)\u001b[0m\u001b[1;33m\u001b[0m\u001b[0m\n",
      "\u001b[1;31mKeyboardInterrupt\u001b[0m: "
     ]
    }
   ],
   "source": [
    "get_means_and_plot(vectors,dimension=3)"
   ]
  },
  {
   "cell_type": "code",
   "execution_count": null,
   "metadata": {
    "collapsed": false
   },
   "outputs": [
    {
     "name": "stdout",
     "output_type": "stream",
     "text": [
      "10002000300040005000600070008000900010000110001200013000140001500016000170001800019000"
     ]
    }
   ],
   "source": [
    "ind=0\n",
    "cl = MongoClient()\n",
    "cran = cl['Cherry']['raspberry']\n",
    "blue = cl['Cherry']['Blueberry']\n",
    "for rec in cran.find({'abstract': {'$exists': True}, '$where': \"this.abstract.length>0\"}):\n",
    "    pub=rec['publisher']\n",
    "    title=rec['title']\n",
    "    abst=rec[u'abstract']\n",
    "    source_url=rec['source_url']\n",
    "    authors=rec['authors']\n",
    "    affiliations=rec['affiliations']\n",
    "    date=rec['date']\n",
    "    journal=rec['journal']\n",
    "    blue.update_one({'doi':rec['doi']},\n",
    "                    {'$set':\n",
    "                        {'publisher':pub,\n",
    "                        'raw_title':title,\n",
    "                        'raw_abstract':abst,\n",
    "                        'source_url':source_url,\n",
    "                        'date':date,\n",
    "                        'journal':journal}})\n",
    "    ind+=1\n",
    "    if ind%1000==0:\n",
    "        sys.stdout.write(str(ind))\n",
    "        sys.stdout.flush()"
   ]
  },
  {
   "cell_type": "code",
   "execution_count": null,
   "metadata": {
    "collapsed": true
   },
   "outputs": [],
   "source": []
  }
 ],
 "metadata": {
  "kernelspec": {
   "display_name": "Python 2",
   "language": "python",
   "name": "python2"
  },
  "language_info": {
   "codemirror_mode": {
    "name": "ipython",
    "version": 2
   },
   "file_extension": ".py",
   "mimetype": "text/x-python",
   "name": "python",
   "nbconvert_exporter": "python",
   "pygments_lexer": "ipython2",
   "version": "2.7.11"
  }
 },
 "nbformat": 4,
 "nbformat_minor": 0
}

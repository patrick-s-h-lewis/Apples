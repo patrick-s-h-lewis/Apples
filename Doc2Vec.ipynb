{
 "cells": [
  {
   "cell_type": "code",
   "execution_count": 3,
   "metadata": {
    "collapsed": false
   },
   "outputs": [],
   "source": [
    "import docIterators\n",
    "import pymongo\n",
    "from pymongo import MongoClient\n",
    "import numpy as np\n",
    "from sklearn.cluster import KMeans\n",
    "from sklearn.manifold import TSNE, MDS\n",
    "from sklearn.decomposition import PCA\n",
    "import matplotlib.pyplot as plt\n",
    "import collections\n",
    "import codecs\n",
    "import json\n",
    "import random\n",
    "from bhtsne.bhtsne import TSNE as BHTSNE\n",
    "import sys\n",
    "import analysis_tools as at"
   ]
  },
  {
   "cell_type": "code",
   "execution_count": 4,
   "metadata": {
    "collapsed": false,
    "scrolled": true
   },
   "outputs": [],
   "source": [
    "conn=['mongodb://localhost:27017','Cherry','Passionfruit']\n",
    "#iterator = docIterators.StrawberryIter(conn,iter_type='VECTORS')\n",
    "#mc = MongoClient(conn[0])[conn[1]][conn[2]]"
   ]
  },
  {
   "cell_type": "code",
   "execution_count": 40,
   "metadata": {
    "collapsed": true
   },
   "outputs": [
    {
     "name": "stdout",
     "output_type": "stream",
     "text": [
      "Chemistry - A European Journalcollected\n",
      "Chem. Lett.collected\n",
      "Phys. Chem. Chem. Phys.collected\n",
      "Journal of Materials Chemistrycollected\n",
      "Food Chemistrycollected\n",
      "Bioorganic & Medicinal Chemistry Letterscollected\n",
      "Journal of Heterocyclic Chemistrycollected\n",
      "Chemistry of Heterocyclic Compoundscollected\n",
      "Int. J. Quantum Chem.collected\n",
      "ChemInformcollected\n",
      "J. Polym. Sci. A Polym. Chem.collected\n",
      "Journal of Radioanalytical and Nuclear Chemistrycollected\n",
      "European Journal of Organic Chemistrycollected\n",
      "Bioorganic & Medicinal Chemistrycollected\n",
      "Anal Bioanal Chemcollected\n",
      "Eur. J. Inorg. Chem.collected\n",
      "Journal of Solid State Chemistrycollected\n",
      "Organic & Biomolecular Chemistrycollected\n",
      "Environmental Toxicology and Chemistrycollected\n",
      "Materials Chemistry and Physicscollected\n"
     ]
    }
   ],
   "source": [
    "with codecs.open('journals.json','r',encoding='utf8') as f:\n",
    "    c=json.load(f)\n",
    "c=collections.Counter(c)\n",
    "vector_type='d2v-d'\n",
    "journo_coll={}\n",
    "for journal in zip(*c.most_common()[:20])[0]:\n",
    "    journo_vectors=[]\n",
    "    curs = mc.find({'journal':journal})\n",
    "    for rec in curs[:1000]:\n",
    "        vectors = rec['vectors']\n",
    "        journo_vectors.append(vectors[vector_type])\n",
    "    journo_coll[journal]=journo_vectors\n",
    "    print(journal + ' collected')"
   ]
  },
  {
   "cell_type": "code",
   "execution_count": 42,
   "metadata": {
    "collapsed": false
   },
   "outputs": [],
   "source": [
    "vecs= [a for b in journo_coll.values() for a in b]\n",
    "#t = TSNE(init='pca',n_components=2)\n",
    "t=BHTSNE(n_components=2)\n",
    "reduced_vecs = t.fit_transform(vecs)\n",
    "colors=iter(plt.cm.rainbow(np.linspace(0,1,len(journo_coll.keys()))))\n",
    "start_ind=0\n",
    "for j in journo_coll.keys():\n",
    "    no_to_plot=len(journo_coll[j])\n",
    "    end_ind=start_ind+no_to_plot\n",
    "    color=colors.next()\n",
    "    plt.plot(reduced_vecs[start_ind:end_ind,0], reduced_vecs[start_ind:end_ind,1], '.',c=color)\n",
    "    start_ind=end_ind\n",
    "    plt.show()"
   ]
  },
  {
   "cell_type": "code",
   "execution_count": 13,
   "metadata": {
    "collapsed": true
   },
   "outputs": [
    {
     "name": "stdout",
     "output_type": "stream",
     "text": [
      "[#         ] 10% 50000bhtsne/bh_tsne\n"
     ]
    },
    {
     "ename": "KeyboardInterrupt",
     "evalue": "",
     "output_type": "error",
     "traceback": [
      "\u001b[1;31m---------------------------------------------------------------------------\u001b[0m",
      "\u001b[1;31mKeyboardInterrupt\u001b[0m                         Traceback (most recent call last)",
      "\u001b[1;32m<ipython-input-13-cf82585d6a04>\u001b[0m in \u001b[0;36m<module>\u001b[1;34m()\u001b[0m\n\u001b[0;32m      8\u001b[0m \u001b[1;31m#t = TSNE(init='pca',n_components=2)\u001b[0m\u001b[1;33m\u001b[0m\u001b[1;33m\u001b[0m\u001b[0m\n\u001b[0;32m      9\u001b[0m \u001b[0mt\u001b[0m\u001b[1;33m=\u001b[0m\u001b[0mBHTSNE\u001b[0m\u001b[1;33m(\u001b[0m\u001b[0mn_components\u001b[0m\u001b[1;33m=\u001b[0m\u001b[1;36m2\u001b[0m\u001b[1;33m)\u001b[0m\u001b[1;33m\u001b[0m\u001b[0m\n\u001b[1;32m---> 10\u001b[1;33m \u001b[0mreduced_vecs\u001b[0m \u001b[1;33m=\u001b[0m \u001b[0mt\u001b[0m\u001b[1;33m.\u001b[0m\u001b[0mfit_transform\u001b[0m\u001b[1;33m(\u001b[0m\u001b[0mvecs\u001b[0m\u001b[1;33m)\u001b[0m\u001b[1;33m\u001b[0m\u001b[0m\n\u001b[0m\u001b[0;32m     11\u001b[0m \u001b[0mplt\u001b[0m\u001b[1;33m.\u001b[0m\u001b[0mplot\u001b[0m\u001b[1;33m(\u001b[0m\u001b[0mreduced_vecs\u001b[0m\u001b[1;33m[\u001b[0m\u001b[1;33m:\u001b[0m\u001b[1;33m,\u001b[0m\u001b[1;36m0\u001b[0m\u001b[1;33m]\u001b[0m\u001b[1;33m,\u001b[0m \u001b[0mreduced_vecs\u001b[0m\u001b[1;33m[\u001b[0m\u001b[1;33m:\u001b[0m\u001b[1;33m,\u001b[0m\u001b[1;36m1\u001b[0m\u001b[1;33m]\u001b[0m\u001b[1;33m,\u001b[0m\u001b[1;34m'o'\u001b[0m\u001b[1;33m)\u001b[0m\u001b[1;33m\u001b[0m\u001b[0m\n\u001b[0;32m     12\u001b[0m \u001b[0mplt\u001b[0m\u001b[1;33m.\u001b[0m\u001b[0mshow\u001b[0m\u001b[1;33m(\u001b[0m\u001b[1;33m)\u001b[0m\u001b[1;33m\u001b[0m\u001b[0m\n",
      "\u001b[1;32m/home/pl375/repos/Apples/bhtsne/bhtsne.py\u001b[0m in \u001b[0;36mfit_transform\u001b[1;34m(self, feed, randseed)\u001b[0m\n\u001b[0;32m     76\u001b[0m                               \u001b[0mtheta\u001b[0m\u001b[1;33m=\u001b[0m\u001b[0mself\u001b[0m\u001b[1;33m.\u001b[0m\u001b[0mtheta\u001b[0m\u001b[1;33m,\u001b[0m\u001b[1;33m\u001b[0m\u001b[0m\n\u001b[0;32m     77\u001b[0m                               \u001b[0mrandseed\u001b[0m\u001b[1;33m=\u001b[0m\u001b[0mrandseed\u001b[0m\u001b[1;33m,\u001b[0m\u001b[1;33m\u001b[0m\u001b[0m\n\u001b[1;32m---> 78\u001b[1;33m                               verbose=0):\n\u001b[0m\u001b[0;32m     79\u001b[0m             \u001b[0mfitted\u001b[0m\u001b[1;33m[\u001b[0m\u001b[0mind\u001b[0m\u001b[1;33m,\u001b[0m\u001b[1;33m:\u001b[0m\u001b[1;33m]\u001b[0m\u001b[1;33m=\u001b[0m\u001b[0mresult\u001b[0m\u001b[1;33m\u001b[0m\u001b[0m\n\u001b[0;32m     80\u001b[0m             \u001b[0mind\u001b[0m\u001b[1;33m+=\u001b[0m\u001b[1;36m1\u001b[0m\u001b[1;33m\u001b[0m\u001b[0m\n",
      "\u001b[1;32m/home/pl375/repos/Apples/bhtsne/bhtsne.py\u001b[0m in \u001b[0;36mbh_tsne\u001b[1;34m(self, samples, no_dims, perplexity, theta, randseed, verbose)\u001b[0m\n\u001b[0;32m    111\u001b[0m                         \u001b[1;31m#   if it is to print any output\u001b[0m\u001b[1;33m\u001b[0m\u001b[1;33m\u001b[0m\u001b[0m\n\u001b[0;32m    112\u001b[0m                         stdout=stderr if verbose else dev_null)\n\u001b[1;32m--> 113\u001b[1;33m                 \u001b[0mbh_tsne_p\u001b[0m\u001b[1;33m.\u001b[0m\u001b[0mwait\u001b[0m\u001b[1;33m(\u001b[0m\u001b[1;33m)\u001b[0m\u001b[1;33m\u001b[0m\u001b[0m\n\u001b[0m\u001b[0;32m    114\u001b[0m                 assert not bh_tsne_p.returncode, ('ERROR: Call to bh_tsne exited '\n\u001b[0;32m    115\u001b[0m                         \u001b[1;34m'with a non-zero return code exit status, please '\u001b[0m \u001b[1;33m+\u001b[0m\u001b[1;33m\u001b[0m\u001b[0m\n",
      "\u001b[1;32m/home/pl375/.conda/envs/Anaconda/lib/python2.7/subprocess.pyc\u001b[0m in \u001b[0;36mwait\u001b[1;34m(self)\u001b[0m\n\u001b[0;32m   1382\u001b[0m             \u001b[1;32mwhile\u001b[0m \u001b[0mself\u001b[0m\u001b[1;33m.\u001b[0m\u001b[0mreturncode\u001b[0m \u001b[1;32mis\u001b[0m \u001b[0mNone\u001b[0m\u001b[1;33m:\u001b[0m\u001b[1;33m\u001b[0m\u001b[0m\n\u001b[0;32m   1383\u001b[0m                 \u001b[1;32mtry\u001b[0m\u001b[1;33m:\u001b[0m\u001b[1;33m\u001b[0m\u001b[0m\n\u001b[1;32m-> 1384\u001b[1;33m                     \u001b[0mpid\u001b[0m\u001b[1;33m,\u001b[0m \u001b[0msts\u001b[0m \u001b[1;33m=\u001b[0m \u001b[0m_eintr_retry_call\u001b[0m\u001b[1;33m(\u001b[0m\u001b[0mos\u001b[0m\u001b[1;33m.\u001b[0m\u001b[0mwaitpid\u001b[0m\u001b[1;33m,\u001b[0m \u001b[0mself\u001b[0m\u001b[1;33m.\u001b[0m\u001b[0mpid\u001b[0m\u001b[1;33m,\u001b[0m \u001b[1;36m0\u001b[0m\u001b[1;33m)\u001b[0m\u001b[1;33m\u001b[0m\u001b[0m\n\u001b[0m\u001b[0;32m   1385\u001b[0m                 \u001b[1;32mexcept\u001b[0m \u001b[0mOSError\u001b[0m \u001b[1;32mas\u001b[0m \u001b[0me\u001b[0m\u001b[1;33m:\u001b[0m\u001b[1;33m\u001b[0m\u001b[0m\n\u001b[0;32m   1386\u001b[0m                     \u001b[1;32mif\u001b[0m \u001b[0me\u001b[0m\u001b[1;33m.\u001b[0m\u001b[0merrno\u001b[0m \u001b[1;33m!=\u001b[0m \u001b[0merrno\u001b[0m\u001b[1;33m.\u001b[0m\u001b[0mECHILD\u001b[0m\u001b[1;33m:\u001b[0m\u001b[1;33m\u001b[0m\u001b[0m\n",
      "\u001b[1;32m/home/pl375/.conda/envs/Anaconda/lib/python2.7/subprocess.pyc\u001b[0m in \u001b[0;36m_eintr_retry_call\u001b[1;34m(func, *args)\u001b[0m\n\u001b[0;32m    474\u001b[0m     \u001b[1;32mwhile\u001b[0m \u001b[0mTrue\u001b[0m\u001b[1;33m:\u001b[0m\u001b[1;33m\u001b[0m\u001b[0m\n\u001b[0;32m    475\u001b[0m         \u001b[1;32mtry\u001b[0m\u001b[1;33m:\u001b[0m\u001b[1;33m\u001b[0m\u001b[0m\n\u001b[1;32m--> 476\u001b[1;33m             \u001b[1;32mreturn\u001b[0m \u001b[0mfunc\u001b[0m\u001b[1;33m(\u001b[0m\u001b[1;33m*\u001b[0m\u001b[0margs\u001b[0m\u001b[1;33m)\u001b[0m\u001b[1;33m\u001b[0m\u001b[0m\n\u001b[0m\u001b[0;32m    477\u001b[0m         \u001b[1;32mexcept\u001b[0m \u001b[1;33m(\u001b[0m\u001b[0mOSError\u001b[0m\u001b[1;33m,\u001b[0m \u001b[0mIOError\u001b[0m\u001b[1;33m)\u001b[0m \u001b[1;32mas\u001b[0m \u001b[0me\u001b[0m\u001b[1;33m:\u001b[0m\u001b[1;33m\u001b[0m\u001b[0m\n\u001b[0;32m    478\u001b[0m             \u001b[1;32mif\u001b[0m \u001b[0me\u001b[0m\u001b[1;33m.\u001b[0m\u001b[0merrno\u001b[0m \u001b[1;33m==\u001b[0m \u001b[0merrno\u001b[0m\u001b[1;33m.\u001b[0m\u001b[0mEINTR\u001b[0m\u001b[1;33m:\u001b[0m\u001b[1;33m\u001b[0m\u001b[0m\n",
      "\u001b[1;31mKeyboardInterrupt\u001b[0m: "
     ]
    }
   ],
   "source": [
    "vecs= []\n",
    "ind=0\n",
    "for record in iterator:\n",
    "    vecs.append(record['vectors']['d2v-d'])\n",
    "    if ind==50000:\n",
    "        break\n",
    "    ind+=1\n",
    "#t = TSNE(init='pca',n_components=2)\n",
    "t=BHTSNE(n_components=2)\n",
    "reduced_vecs = t.fit_transform(vecs)\n",
    "plt.plot(reduced_vecs[:,0], reduced_vecs[:,1],'o')\n",
    "plt.show()"
   ]
  },
  {
   "cell_type": "code",
   "execution_count": 5,
   "metadata": {
    "collapsed": false
   },
   "outputs": [],
   "source": [
    "iterator = docIterators.StrawberryIter(conn,iter_type='VECTORS',query={'source_url':{'$regex':'www.ch.cam.ac.uk'}})\n"
   ]
  },
  {
   "cell_type": "code",
   "execution_count": 6,
   "metadata": {
    "collapsed": false
   },
   "outputs": [
    {
     "name": "stdout",
     "output_type": "stream",
     "text": [
      "[######### ] 95% 9000\n",
      "\n"
     ]
    }
   ],
   "source": [
    "vec,dois=at.get_vectors(iterator)"
   ]
  },
  {
   "cell_type": "code",
   "execution_count": 7,
   "metadata": {
    "collapsed": false
   },
   "outputs": [],
   "source": [
    "mat = at.cosine_mat(vec,vec)"
   ]
  },
  {
   "cell_type": "code",
   "execution_count": 8,
   "metadata": {
    "collapsed": false
   },
   "outputs": [],
   "source": [
    "def csv_gephi_exporter(dois,mat,filename='cam_connect.csv',thresh=0.35):\n",
    "    with open(filename,'w') as f:\n",
    "        masked=mat*(mat>thresh)\n",
    "        f.write(';'+';'.join(dois)+'\\n')\n",
    "        for i in range(mat.shape[0]):\n",
    "            masked[i,i]=0.\n",
    "            ex=(';'.join([str(j) for j in masked[i] if j>thresh]))\n",
    "            ex=dois[i]+';'+ex+'\\n'\n",
    "            f.write(ex)\n"
   ]
  },
  {
   "cell_type": "code",
   "execution_count": 35,
   "metadata": {
    "collapsed": false
   },
   "outputs": [],
   "source": [
    "def gexf_gephi_exporter(dois,mat,filename='cam_connect.gexf',thresh=.35):\n",
    "    node_count=len(dois)\n",
    "    edge_count=(np.sum(mat>thresh)-mat.shape[0])/2\n",
    "    header='''<?xml version=\"1.0\" encoding=\"UTF-8\"?>\n",
    "<gexf xmlns:viz=\"http:///www.gexf.net/1.1draft/viz\" version=\"1.1\" xmlns=\"http://www.gexf.net/1.1draft\">\n",
    "<meta lastmodifieddate=\"2010-03-03+23:44\">\n",
    "<creator>Gephi 0.7</creator>\n",
    "</meta>\n",
    "<graph defaultedgetype=\"undirected\" idtype=\"string\" type=\"static\">\n",
    "<nodes count=\"'''\n",
    "    header=header+str(node_count)+'\">'\n",
    "    footer='''\\n</edges>\\n</graph>\\n</gexf>'''\n",
    "    with open(filename,'w') as f:\n",
    "        f.write(header)\n",
    "        for i in range(node_count):\n",
    "            node='\\n<node id=\"'+str(float(i))+'\" label=\"'+dois[i]+'\"/>'\n",
    "            f.write(node)\n",
    "        f.write('\\n</nodes>\\n<edges count=\"'+str(edge_count)+'\">')\n",
    "        edge_no=0\n",
    "        for i in range(node_count):\n",
    "            for j in range(i+1,node_count):\n",
    "                if mat[i,j]>thresh:\n",
    "                    f.write(\n",
    "                        '\\n<edge id=\"'+\n",
    "                        str(float(edge_no))+\n",
    "                        '\" source=\"'+str(float(i))\n",
    "                        +'\" target=\"'+str(float(j))+\n",
    "                        '\" weight=\"'+str(mat[i,j])+'\"/>')\n",
    "                    edge_no+=1\n",
    "        f.write(footer)"
   ]
  },
  {
   "cell_type": "code",
   "execution_count": 36,
   "metadata": {
    "collapsed": false
   },
   "outputs": [],
   "source": [
    "gexf_gephi_exporter(dois,mat)"
   ]
  },
  {
   "cell_type": "code",
   "execution_count": 233,
   "metadata": {
    "collapsed": false
   },
   "outputs": [],
   "source": [
    "counts, edges = np.histogram(mat,bins=100)"
   ]
  },
  {
   "cell_type": "code",
   "execution_count": 249,
   "metadata": {
    "collapsed": false,
    "scrolled": true
   },
   "outputs": [],
   "source": [
    "plt.plot(centres,list(counts))\n",
    "plt.show()"
   ]
  },
  {
   "cell_type": "code",
   "execution_count": 239,
   "metadata": {
    "collapsed": true
   },
   "outputs": [],
   "source": [
    "plt.show()"
   ]
  },
  {
   "cell_type": "code",
   "execution_count": 242,
   "metadata": {
    "collapsed": true
   },
   "outputs": [
    {
     "data": {
      "text/plain": [
       "array([-0.53240638, -0.51708857, -0.50177076, -0.48645295, -0.47113514,\n",
       "       -0.45581733, -0.44049952, -0.42518171, -0.4098639 , -0.39454609,\n",
       "       -0.37922828, -0.36391047, -0.34859266, -0.33327485, -0.31795704,\n",
       "       -0.30263923, -0.28732142, -0.27200361, -0.2566858 , -0.24136799,\n",
       "       -0.22605018, -0.21073237, -0.19541456, -0.18009675, -0.16477894,\n",
       "       -0.14946113, -0.13414332, -0.11882551, -0.1035077 , -0.08818989,\n",
       "       -0.07287208, -0.05755427, -0.04223646, -0.02691865, -0.01160084,\n",
       "        0.00371697,  0.01903478,  0.03435259,  0.0496704 ,  0.0649882 ,\n",
       "        0.08030601,  0.09562382,  0.11094163,  0.12625944,  0.14157725,\n",
       "        0.15689506,  0.17221287,  0.18753068,  0.20284849,  0.2181663 ,\n",
       "        0.23348411,  0.24880192,  0.26411973,  0.27943754,  0.29475535,\n",
       "        0.31007316,  0.32539097,  0.34070878,  0.35602659,  0.3713444 ,\n",
       "        0.38666221,  0.40198002,  0.41729783,  0.43261564,  0.44793345,\n",
       "        0.46325126,  0.47856907,  0.49388688,  0.50920469,  0.5245225 ,\n",
       "        0.53984031,  0.55515812,  0.57047593,  0.58579374,  0.60111155,\n",
       "        0.61642936,  0.63174717,  0.64706498,  0.66238279,  0.6777006 ,\n",
       "        0.69301841,  0.70833622,  0.72365403,  0.73897184,  0.75428965,\n",
       "        0.76960746,  0.78492527,  0.80024308,  0.81556089,  0.8308787 ,\n",
       "        0.84619651,  0.86151432,  0.87683213,  0.89214993,  0.90746774,\n",
       "        0.92278555,  0.93810336,  0.95342117,  0.96873898,  0.98405679,\n",
       "        0.9993746 ])"
      ]
     },
     "execution_count": 242,
     "metadata": {},
     "output_type": "execute_result"
    }
   ],
   "source": [
    "edges"
   ]
  },
  {
   "cell_type": "code",
   "execution_count": 245,
   "metadata": {
    "collapsed": false
   },
   "outputs": [],
   "source": [
    "centres=[]\n",
    "for i in range(100):\n",
    "    centres.append((edges[i]+edges[i+1])/2.)"
   ]
  },
  {
   "cell_type": "code",
   "execution_count": 247,
   "metadata": {
    "collapsed": true
   },
   "outputs": [
    {
     "data": {
      "text/plain": [
       "[-0.5247474728054029,\n",
       " -0.50942966299296388,\n",
       " -0.49411185318052497,\n",
       " -0.47879404336808595,\n",
       " -0.46347623355564699,\n",
       " -0.44815842374320802,\n",
       " -0.43284061393076906,\n",
       " -0.41752280411833009,\n",
       " -0.40220499430589107,\n",
       " -0.38688718449345216,\n",
       " -0.37156937468101314,\n",
       " -0.35625156486857423,\n",
       " -0.34093375505613521,\n",
       " -0.32561594524369625,\n",
       " -0.31029813543125728,\n",
       " -0.29498032561881832,\n",
       " -0.27966251580637935,\n",
       " -0.26434470599394033,\n",
       " -0.24902689618150139,\n",
       " -0.23370908636906243,\n",
       " -0.21839127655662346,\n",
       " -0.2030734667441845,\n",
       " -0.18775565693174553,\n",
       " -0.17243784711930657,\n",
       " -0.1571200373068676,\n",
       " -0.14180222749442864,\n",
       " -0.12648441768198965,\n",
       " -0.11116660786955065,\n",
       " -0.095848798057111689,\n",
       " -0.080530988244672724,\n",
       " -0.065213178432233759,\n",
       " -0.049895368619794794,\n",
       " -0.034577558807355829,\n",
       " -0.019259748994916837,\n",
       " -0.0039419391824778716,\n",
       " 0.011375870629961093,\n",
       " 0.026693680442400058,\n",
       " 0.042011490254839023,\n",
       " 0.057329300067277988,\n",
       " 0.072647109879716953,\n",
       " 0.087964919692155918,\n",
       " 0.10328272950459488,\n",
       " 0.1186005393170339,\n",
       " 0.13391834912947287,\n",
       " 0.14923615894191183,\n",
       " 0.1645539687543508,\n",
       " 0.17987177856678976,\n",
       " 0.19518958837922873,\n",
       " 0.21050739819166769,\n",
       " 0.22582520800410666,\n",
       " 0.24114301781654562,\n",
       " 0.25646082762898459,\n",
       " 0.27177863744142355,\n",
       " 0.28709644725386257,\n",
       " 0.30241425706630154,\n",
       " 0.3177320668787405,\n",
       " 0.33304987669117947,\n",
       " 0.34836768650361843,\n",
       " 0.3636854963160574,\n",
       " 0.37900330612849636,\n",
       " 0.39432111594093533,\n",
       " 0.40963892575337429,\n",
       " 0.42495673556581326,\n",
       " 0.44027454537825222,\n",
       " 0.45559235519069124,\n",
       " 0.47091016500313021,\n",
       " 0.48622797481556912,\n",
       " 0.50154578462800814,\n",
       " 0.51686359444044716,\n",
       " 0.53218140425288607,\n",
       " 0.54749921406532498,\n",
       " 0.562817023877764,\n",
       " 0.57813483369020302,\n",
       " 0.59345264350264193,\n",
       " 0.60877045331508095,\n",
       " 0.62408826312751997,\n",
       " 0.63940607293995888,\n",
       " 0.65472388275239779,\n",
       " 0.67004169256483681,\n",
       " 0.68535950237727583,\n",
       " 0.70067731218971474,\n",
       " 0.71599512200215365,\n",
       " 0.73131293181459267,\n",
       " 0.74663074162703169,\n",
       " 0.7619485514394706,\n",
       " 0.77726636125190962,\n",
       " 0.79258417106434864,\n",
       " 0.80790198087678755,\n",
       " 0.82321979068922646,\n",
       " 0.83853760050166548,\n",
       " 0.8538554103141045,\n",
       " 0.86917322012654341,\n",
       " 0.88449102993898232,\n",
       " 0.89980883975142134,\n",
       " 0.91512664956386036,\n",
       " 0.93044445937629927,\n",
       " 0.94576226918873829,\n",
       " 0.96108007900117731,\n",
       " 0.97639788881361622,\n",
       " 0.99171569862605513]"
      ]
     },
     "execution_count": 247,
     "metadata": {},
     "output_type": "execute_result"
    }
   ],
   "source": [
    "centres"
   ]
  },
  {
   "cell_type": "code",
   "execution_count": 268,
   "metadata": {
    "collapsed": false
   },
   "outputs": [
    {
     "data": {
      "text/plain": [
       "466527"
      ]
     },
     "execution_count": 268,
     "metadata": {},
     "output_type": "execute_result"
    }
   ],
   "source": [
    "sum(list(counts[54:]))/2"
   ]
  },
  {
   "cell_type": "code",
   "execution_count": 267,
   "metadata": {
    "collapsed": false
   },
   "outputs": [
    {
     "data": {
      "text/plain": [
       "0.30241425706630154"
      ]
     },
     "execution_count": 267,
     "metadata": {},
     "output_type": "execute_result"
    }
   ],
   "source": [
    "centres[54]"
   ]
  },
  {
   "cell_type": "code",
   "execution_count": 14,
   "metadata": {
    "collapsed": false
   },
   "outputs": [
    {
     "name": "stdout",
     "output_type": "stream",
     "text": [
      "160779\n"
     ]
    },
    {
     "data": {
      "text/plain": [
       "331025"
      ]
     },
     "execution_count": 14,
     "metadata": {},
     "output_type": "execute_result"
    }
   ],
   "source": [
    "thresh=0.35\n",
    "ind=0\n",
    "for i in range(mat.shape[0]):\n",
    "    for j in range(i+1,mat.shape[0]):\n",
    "        if mat[i,j]>thresh:\n",
    "            ind+=1\n",
    "print ind\n",
    "np.sum(mat>thresh)"
   ]
  },
  {
   "cell_type": "code",
   "execution_count": 19,
   "metadata": {
    "collapsed": false
   },
   "outputs": [
    {
     "data": {
      "text/plain": [
       "array([[0, 3, 4],\n",
       "       [0, 0, 5]])"
      ]
     },
     "execution_count": 19,
     "metadata": {},
     "output_type": "execute_result"
    }
   ],
   "source": [
    "np.array([[1,3,4],[1,1,5]])*(np.array([[1,3,4],[1,1,5]])>2)"
   ]
  },
  {
   "cell_type": "code",
   "execution_count": 16,
   "metadata": {
    "collapsed": false
   },
   "outputs": [
    {
     "data": {
      "text/plain": [
       "160779"
      ]
     },
     "execution_count": 16,
     "metadata": {},
     "output_type": "execute_result"
    }
   ],
   "source": [
    "(np.sum(mat>thresh)-mat.shape[0])/2"
   ]
  },
  {
   "cell_type": "code",
   "execution_count": 17,
   "metadata": {
    "collapsed": false
   },
   "outputs": [
    {
     "data": {
      "text/plain": [
       "0.99999999999999978"
      ]
     },
     "execution_count": 17,
     "metadata": {},
     "output_type": "execute_result"
    }
   ],
   "source": [
    "mat[1,1]"
   ]
  },
  {
   "cell_type": "code",
   "execution_count": 26,
   "metadata": {
    "collapsed": false,
    "scrolled": true
   },
   "outputs": [
    {
     "data": {
      "text/plain": [
       "9467"
      ]
     },
     "execution_count": 26,
     "metadata": {},
     "output_type": "execute_result"
    }
   ],
   "source": [
    "len(dois)"
   ]
  },
  {
   "cell_type": "code",
   "execution_count": 27,
   "metadata": {
    "collapsed": false
   },
   "outputs": [
    {
     "data": {
      "text/plain": [
       "(9467, 9467)"
      ]
     },
     "execution_count": 27,
     "metadata": {},
     "output_type": "execute_result"
    }
   ],
   "source": [
    "mat.shape"
   ]
  },
  {
   "cell_type": "code",
   "execution_count": null,
   "metadata": {
    "collapsed": true
   },
   "outputs": [],
   "source": []
  }
 ],
 "metadata": {
  "kernelspec": {
   "display_name": "Python 2",
   "language": "python",
   "name": "python2"
  },
  "language_info": {
   "codemirror_mode": {
    "name": "ipython",
    "version": 2
   },
   "file_extension": ".py",
   "mimetype": "text/x-python",
   "name": "python",
   "nbconvert_exporter": "python",
   "pygments_lexer": "ipython2",
   "version": "2.7.11"
  }
 },
 "nbformat": 4,
 "nbformat_minor": 0
}

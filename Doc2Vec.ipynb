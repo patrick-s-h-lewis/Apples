{
 "cells": [
  {
   "cell_type": "code",
   "execution_count": 8,
   "metadata": {
    "collapsed": false
   },
   "outputs": [],
   "source": [
    "import docIterators\n",
    "import pymongo\n",
    "from pymongo import MongoClient\n",
    "import numpy as np\n",
    "from sklearn.cluster import KMeans\n",
    "from sklearn.manifold import TSNE, MDS\n",
    "from sklearn.decomposition import PCA\n",
    "import matplotlib.pyplot as plt\n",
    "import collections\n",
    "import codecs\n",
    "import json\n",
    "import random\n",
    "from bhtsne.bhtsne import TSNE as BHTSNE\n",
    "import sys"
   ]
  },
  {
   "cell_type": "code",
   "execution_count": 2,
   "metadata": {
    "collapsed": false,
    "scrolled": true
   },
   "outputs": [],
   "source": [
    "conn=['mongodb://localhost:6666','Cherry','Strawberry']\n",
    "iterator = docIterators.StrawberryIter(conn,iter_type='VECTORS')\n",
    "mc = MongoClient(conn[0])[conn[1]][conn[2]]"
   ]
  },
  {
   "cell_type": "code",
   "execution_count": 40,
   "metadata": {
    "collapsed": true
   },
   "outputs": [
    {
     "name": "stdout",
     "output_type": "stream",
     "text": [
      "Chemistry - A European Journalcollected\n",
      "Chem. Lett.collected\n",
      "Phys. Chem. Chem. Phys.collected\n",
      "Journal of Materials Chemistrycollected\n",
      "Food Chemistrycollected\n",
      "Bioorganic & Medicinal Chemistry Letterscollected\n",
      "Journal of Heterocyclic Chemistrycollected\n",
      "Chemistry of Heterocyclic Compoundscollected\n",
      "Int. J. Quantum Chem.collected\n",
      "ChemInformcollected\n",
      "J. Polym. Sci. A Polym. Chem.collected\n",
      "Journal of Radioanalytical and Nuclear Chemistrycollected\n",
      "European Journal of Organic Chemistrycollected\n",
      "Bioorganic & Medicinal Chemistrycollected\n",
      "Anal Bioanal Chemcollected\n",
      "Eur. J. Inorg. Chem.collected\n",
      "Journal of Solid State Chemistrycollected\n",
      "Organic & Biomolecular Chemistrycollected\n",
      "Environmental Toxicology and Chemistrycollected\n",
      "Materials Chemistry and Physicscollected\n"
     ]
    }
   ],
   "source": [
    "with codecs.open('journals.json','r',encoding='utf8') as f:\n",
    "    c=json.load(f)\n",
    "c=collections.Counter(c)\n",
    "vector_type='d2v-d'\n",
    "journo_coll={}\n",
    "for journal in zip(*c.most_common()[:20])[0]:\n",
    "    journo_vectors=[]\n",
    "    curs = mc.find({'journal':journal})\n",
    "    for rec in curs[:1000]:\n",
    "        vectors = rec['vectors']\n",
    "        journo_vectors.append(vectors[vector_type])\n",
    "    journo_coll[journal]=journo_vectors\n",
    "    print(journal + ' collected')"
   ]
  },
  {
   "cell_type": "code",
   "execution_count": 42,
   "metadata": {
    "collapsed": false
   },
   "outputs": [],
   "source": [
    "vecs= [a for b in journo_coll.values() for a in b]\n",
    "#t = TSNE(init='pca',n_components=2)\n",
    "t=BHTSNE(n_components=2)\n",
    "reduced_vecs = t.fit_transform(vecs)\n",
    "colors=iter(plt.cm.rainbow(np.linspace(0,1,len(journo_coll.keys()))))\n",
    "start_ind=0\n",
    "for j in journo_coll.keys():\n",
    "    no_to_plot=len(journo_coll[j])\n",
    "    end_ind=start_ind+no_to_plot\n",
    "    color=colors.next()\n",
    "    plt.plot(reduced_vecs[start_ind:end_ind,0], reduced_vecs[start_ind:end_ind,1], '.',c=color)\n",
    "    start_ind=end_ind\n",
    "    plt.show()"
   ]
  }
 ],
 "metadata": {
  "kernelspec": {
   "display_name": "Python 2",
   "language": "python",
   "name": "python2"
  },
  "language_info": {
   "codemirror_mode": {
    "name": "ipython",
    "version": 2
   },
   "file_extension": ".py",
   "mimetype": "text/x-python",
   "name": "python",
   "nbconvert_exporter": "python",
   "pygments_lexer": "ipython2",
   "version": "2.7.11"
  }
 },
 "nbformat": 4,
 "nbformat_minor": 0
}

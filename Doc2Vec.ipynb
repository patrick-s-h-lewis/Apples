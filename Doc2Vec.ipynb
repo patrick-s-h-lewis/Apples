{
 "cells": [
  {
   "cell_type": "code",
   "execution_count": 2,
   "metadata": {
    "collapsed": true
   },
   "outputs": [],
   "source": [
    "import gensim.models.doc2vec as d2v\n",
    "import docIterators\n",
    "import pymongo\n",
    "from pymongo import MongoClient\n",
    "import numpy as np"
   ]
  },
  {
   "cell_type": "code",
   "execution_count": 2,
   "metadata": {
    "collapsed": false,
    "scrolled": true
   },
   "outputs": [
    {
     "data": {
      "text/plain": [
       "\"model = d2v.Doc2Vec(size=100,window=5,min_count=1,alpha=0.025,min_alpha=0.025)\\nmodel.build_vocab(iterator)\\nfor epoch in range(10):\\n    model.train(iterator)\\n    model.alpha -=0.002\\n    model.min_alpha=model.alpha\\n    model.train(iterator)\\nmodel.docvecs['10.4028/www.scientific.net/amr.488-489.1062']\""
      ]
     },
     "execution_count": 2,
     "metadata": {},
     "output_type": "execute_result"
    }
   ],
   "source": [
    "conn=['mongodb://localhost:6666','Cherry','Blueberry']\n",
    "iterator = docIterators.BlueberryIter(conn,iter_type='LABELED_SENTENCES')"
   ]
  },
  {
   "cell_type": "code",
   "execution_count": 5,
   "metadata": {
    "collapsed": false
   },
   "outputs": [],
   "source": [
    "import pymongo\n",
    "from pymongo import MongoClient\n",
    "mc = MongoClient(conn[0])[conn[1]][conn[2]]"
   ]
  },
  {
   "cell_type": "code",
   "execution_count": 19,
   "metadata": {
    "collapsed": true
   },
   "outputs": [
    {
     "name": "stdout",
     "output_type": "stream",
     "text": [
      "10000\n",
      "20000\n",
      "30000\n",
      "40000\n",
      "50000\n",
      "60000\n",
      "70000\n",
      "80000\n",
      "90000\n",
      "100000\n",
      "110000\n",
      "120000\n",
      "130000\n",
      "140000\n",
      "150000\n",
      "160000\n",
      "170000\n",
      "180000\n",
      "190000\n",
      "200000\n",
      "210000\n",
      "220000\n",
      "230000\n",
      "240000\n",
      "250000\n",
      "260000\n",
      "270000\n",
      "280000\n",
      "290000\n",
      "300000\n",
      "310000\n",
      "320000\n",
      "330000\n",
      "340000\n",
      "350000\n",
      "360000\n",
      "370000\n",
      "380000\n",
      "390000\n",
      "400000\n",
      "410000\n",
      "420000\n",
      "430000\n",
      "440000\n"
     ]
    }
   ],
   "source": [
    "journals = []\n",
    "ind=0\n",
    "stupids=0\n",
    "for record in mc.find():\n",
    "    if 'journal' in record.keys():\n",
    "        journals.append(record['journal'])\n",
    "    else:\n",
    "        stupids+=1\n",
    "    ind+=1\n",
    "    if ind%10000==0:\n",
    "        print ind"
   ]
  },
  {
   "cell_type": "code",
   "execution_count": 20,
   "metadata": {
    "collapsed": false
   },
   "outputs": [],
   "source": [
    "import collections\n",
    "c = collections.Counter(journals)"
   ]
  },
  {
   "cell_type": "code",
   "execution_count": 28,
   "metadata": {
    "collapsed": false
   },
   "outputs": [],
   "source": [
    "testers =['Marine Chemistry',\n",
    "'Atmospheric Environment',\n",
    "'Supramolecular Chemistry',\n",
    "'Journal of Atmospheric Chemistry']\n",
    "marine_dois=[]\n",
    "atmospheric_env_dois=[]\n",
    "supramolecular_dois=[]\n",
    "j_atmos_chem_dois=[]\n",
    "for rec in mc.find({'journal':u'Marine Chemistry'}):\n",
    "    marine_dois.append(rec['doi'])\n",
    "for rec in mc.find({'journal':u'Atmospheric Environment'}):\n",
    "    atmospheric_env_dois.append(rec['doi'])\n",
    "for rec in mc.find({'journal':u'Supramolecular Chemistry'}):\n",
    "    supramolecular_dois.append(rec['doi'])\n",
    "for rec in mc.find({'journal':u'Journal of Atmospheric Chemistry'}):\n",
    "    j_atmos_chem_dois.append(rec['doi'])"
   ]
  },
  {
   "cell_type": "markdown",
   "metadata": {},
   "source": [
    "intra journal similarity\n",
    "\n",
    "inter journal similarity\n",
    "\n",
    "tsne clustering\n",
    "\n",
    "comparisons between graphs"
   ]
  },
  {
   "cell_type": "code",
   "execution_count": 35,
   "metadata": {
    "collapsed": false
   },
   "outputs": [],
   "source": [
    "model = d2v.Doc2Vec.load('doc2vec')"
   ]
  },
  {
   "cell_type": "code",
   "execution_count": 49,
   "metadata": {
    "collapsed": true
   },
   "outputs": [],
   "source": [
    "def similarity(model,dois_1,dois_2=None):\n",
    "    sim=0\n",
    "    if dois_2:\n",
    "        for i in range(len(dois_1)):\n",
    "            for j in range(len(dois_2)):\n",
    "                sim+=model.docvecs.similarity(dois_1[i],dois_2[j])\n",
    "        sim=sim/(len(dois_1)*len(dois_2))\n",
    "    else:\n",
    "        for i in range(len(dois_1)):\n",
    "            for j in range(i+1,len(dois_1)):\n",
    "                sim+=model.docvecs.similarity(dois_1[i],dois_1[j])\n",
    "        sim=sim/(len(dois_1)*(len(dois_1)-1)/2.)\n",
    "    return sim"
   ]
  },
  {
   "cell_type": "code",
   "execution_count": 71,
   "metadata": {
    "collapsed": true
   },
   "outputs": [
    {
     "data": {
      "text/plain": [
       "[(u'10.1007/bf00471666', 0.0),\n",
       " (u'10.1007/bf00471668', 0.0),\n",
       " (u'10.1016/j.jfluchem.2004.09.009', 0.0),\n",
       " (u'10.1002/aoc.1518', 0.0),\n",
       " (u'10.1002/chem.200900660', 0.0),\n",
       " (u'10.1007/s00044-010-9317-2', 0.0),\n",
       " (u'10.1002/chin.200928052', 0.0),\n",
       " (u'10.1002/chem.200802451', 0.0),\n",
       " (u'10.1007/bf00471667', 0.0),\n",
       " (u'10.1002/ejoc.200900437', 0.0)]"
      ]
     },
     "execution_count": 71,
     "metadata": {},
     "output_type": "execute_result"
    }
   ],
   "source": [
    "vec1=model.docvecs[marine_dois[0]]\n",
    "vec2=model.docvecs[marine_dois[1]]\n",
    "model.docvecs.most_similar([numpy.zeros(100)],topn=10)"
   ]
  },
  {
   "cell_type": "code",
   "execution_count": 62,
   "metadata": {
    "collapsed": true
   },
   "outputs": [
    {
     "name": "stdout",
     "output_type": "stream",
     "text": [
      "An automated procedure for laboratory and shipboard spectrophotometric measurements of seawater alkalinity: Continuously monitored single-step acid additions\n",
      "\n",
      "Determination of titratable acidity and ascorbic acid in fruit juices in continuous-flow systems\n",
      "\n",
      "Contributions of organic alkalinity to total alkalinity in coastal waters: A spectrophotometric approach\n",
      "\n",
      "Shipboard Fluorometric Flow Analyzer for High-Resolution Underway Measurement of Ammonium in Seawater\n",
      "\n",
      "Spectrophotometric determination of pH in seawater off Taiaroa Head, Otago, New Zealand: Full-spectrum modelling and prediction of pCO2 levels\n",
      "\n",
      "Comparative study of chromatographic, spectrophotometric and non aqueous titrimetric methods for determination of protease inhibitor in tablets\n",
      "\n",
      "Major Ion Chemistry and Sensitivity to Acid Precipitation of Sierra Nevada Lakes\n",
      "\n",
      "FIA acid–base titrations with a new flow-through pH detector\n",
      "\n",
      "A rapid, precise potentiometric determination of total alkalinity in seawater by a newly developed flow-through analyzer designed for coastal regions\n",
      "\n",
      "A modified method for on-line determination of trace ammonium in seawater with a long-path liquid waveguide capillary cell and spectrophotometric detection\n",
      "\n",
      "Determination of free and total acidity in small volumes ? development of a FIA-gradient mixing technique\n"
     ]
    }
   ],
   "source": [
    "print(mc.find_one({'doi':marine_dois[0]})[u'raw_title'])\n",
    "for tup in model.docvecs.most_similar(marine_dois[0]):\n",
    "    print('')\n",
    "    print(mc.find_one({'doi':tup[0]})[u'raw_title'])"
   ]
  },
  {
   "cell_type": "code",
   "execution_count": 51,
   "metadata": {
    "collapsed": true
   },
   "outputs": [
    {
     "name": "stdout",
     "output_type": "stream",
     "text": [
      "Journal Atmospheric vs Journal Atmospheric\n",
      "0.225509094551\n",
      "Journal Atmospheric vs Atmospheric Env\n",
      "0.234635265326\n",
      "Journal Atmospheric vs Marine\n",
      "0.185787677823\n",
      "Journal Atmospheric vs Supramolecular\n",
      "-0.00928730320253\n",
      "Atmospheric Env vs Journal Atmospheric\n",
      "0.234635265326\n",
      "Atmospheric Env vs Atmospheric Env\n",
      "0.266419059019\n",
      "Atmospheric Env vs Marine\n",
      "0.198722768542\n",
      "Atmospheric Env vs Supramolecular\n",
      "-0.00735210834518\n",
      "Marine vs Journal Atmospheric\n",
      "0.185787677823\n",
      "Marine vs Atmospheric Env\n",
      "0.198722768542\n",
      "Marine vs Marine\n",
      "0.259197204374\n",
      "Marine vs Supramolecular\n",
      "-0.0117441583656\n",
      "Supramolecular vs Journal Atmospheric\n",
      "-0.00928730320253\n",
      "Supramolecular vs Atmospheric Env\n",
      "-0.00735210834518\n",
      "Supramolecular vs Marine\n",
      "-0.0117441583656\n",
      "Supramolecular vs Supramolecular\n",
      "0.078308480511\n"
     ]
    }
   ],
   "source": [
    "testbed = {'Marine':marine_dois,\n",
    "           'Atmospheric Env':atmospheric_env_dois,\n",
    "           'Supramolecular':supramolecular_dois,\n",
    "           'Journal Atmospheric':j_atmos_chem_dois}\n",
    "for k,v in testbed.items():\n",
    "    for k1,v1 in testbed.items():\n",
    "        print(k + ' vs ' + k1)\n",
    "        if k==k1:\n",
    "            print(similarity(model,v))\n",
    "        else:\n",
    "            print(similarity(model,v,v1))"
   ]
  },
  {
   "cell_type": "code",
   "execution_count": 176,
   "metadata": {
    "collapsed": false
   },
   "outputs": [
    {
     "data": {
      "text/plain": [
       "[array([1, 2, 3]), array([1, 2, 3]), array([1, 2, 3])]"
      ]
     },
     "execution_count": 176,
     "metadata": {},
     "output_type": "execute_result"
    }
   ],
   "source": [
    "sample=[np.array([1,2,3]),np.array([1,2,3]),np.array([1,2,3])]\n",
    "list(np.array(sample))"
   ]
  },
  {
   "cell_type": "code",
   "execution_count": null,
   "metadata": {
    "collapsed": true
   },
   "outputs": [],
   "source": []
  }
 ],
 "metadata": {
  "kernelspec": {
   "display_name": "Python 2",
   "language": "python",
   "name": "python2"
  },
  "language_info": {
   "codemirror_mode": {
    "name": "ipython",
    "version": 2
   },
   "file_extension": ".py",
   "mimetype": "text/x-python",
   "name": "python",
   "nbconvert_exporter": "python",
   "pygments_lexer": "ipython2",
   "version": "2.7.11"
  }
 },
 "nbformat": 4,
 "nbformat_minor": 0
}
